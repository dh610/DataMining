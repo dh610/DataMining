{
  "nbformat": 4,
  "nbformat_minor": 0,
  "metadata": {
    "colab": {
      "provenance": [],
      "machine_shape": "hm",
      "gpuType": "T4",
      "authorship_tag": "ABX9TyMkMTtGBbRmVox+xCYKFxt+",
      "include_colab_link": true
    },
    "kernelspec": {
      "name": "python3",
      "display_name": "Python 3"
    },
    "language_info": {
      "name": "python"
    },
    "accelerator": "GPU"
  },
  "cells": [
    {
      "cell_type": "markdown",
      "metadata": {
        "id": "view-in-github",
        "colab_type": "text"
      },
      "source": [
        "<a href=\"https://colab.research.google.com/github/dh610/DataMining/blob/main/datamining_project.ipynb\" target=\"_parent\"><img src=\"https://colab.research.google.com/assets/colab-badge.svg\" alt=\"Open In Colab\"/></a>"
      ]
    },
    {
      "cell_type": "code",
      "execution_count": 45,
      "metadata": {
        "id": "Hhev9LhnBC7O"
      },
      "outputs": [],
      "source": [
        "## for data\n",
        "import pandas as pd\n",
        "import numpy as np\n",
        "import collections\n",
        "import json\n",
        "\n",
        "## for plotting\n",
        "import matplotlib.pyplot as plt\n",
        "import seaborn as sns\n",
        "import wordcloud\n",
        "## for text processing\n",
        "import re\n",
        "import nltk\n",
        "\n",
        "## for sentiment\n",
        "from textblob import TextBlob\n",
        "## for ner\n",
        "import spacy\n",
        "## for vectorizer\n",
        "from sklearn import feature_extraction, manifold\n",
        "\n",
        "## for bag-of-words\n",
        "from sklearn import feature_extraction, model_selection, naive_bayes, pipeline, manifold, preprocessing"
      ]
    },
    {
      "cell_type": "code",
      "source": [
        "from google.colab import drive\n",
        "drive.mount('/content/drive')"
      ],
      "metadata": {
        "colab": {
          "base_uri": "https://localhost:8080/"
        },
        "id": "AmXw4BasC-C5",
        "outputId": "8ab69b3a-a311-49c1-dbe2-f17186eb7fe2"
      },
      "execution_count": 46,
      "outputs": [
        {
          "output_type": "stream",
          "name": "stdout",
          "text": [
            "Drive already mounted at /content/drive; to attempt to forcibly remount, call drive.mount(\"/content/drive\", force_remount=True).\n"
          ]
        }
      ]
    },
    {
      "cell_type": "code",
      "source": [
        "lst_dics = []\n",
        "with open('/content/drive/MyDrive/datamining/News_Category_Dataset_v3.json', mode='r', errors='ignore') as json_file:\n",
        "    for dic in json_file:\n",
        "        lst_dics.append( json.loads(dic) )"
      ],
      "metadata": {
        "id": "_Frslpm-DQwr"
      },
      "execution_count": 47,
      "outputs": []
    },
    {
      "cell_type": "code",
      "source": [
        "df = pd.DataFrame(lst_dics)\n",
        "df.head()"
      ],
      "metadata": {
        "colab": {
          "base_uri": "https://localhost:8080/",
          "height": 293
        },
        "id": "lUZPMy1vD1sq",
        "outputId": "c391ca7e-2c85-4777-8e68-c762e367be89"
      },
      "execution_count": 48,
      "outputs": [
        {
          "output_type": "execute_result",
          "data": {
            "text/plain": [
              "                                                link  \\\n",
              "0  https://www.huffpost.com/entry/covid-boosters-...   \n",
              "1  https://www.huffpost.com/entry/american-airlin...   \n",
              "2  https://www.huffpost.com/entry/funniest-tweets...   \n",
              "3  https://www.huffpost.com/entry/funniest-parent...   \n",
              "4  https://www.huffpost.com/entry/amy-cooper-lose...   \n",
              "\n",
              "                                            headline   category  \\\n",
              "0  Over 4 Million Americans Roll Up Sleeves For O...  U.S. NEWS   \n",
              "1  American Airlines Flyer Charged, Banned For Li...  U.S. NEWS   \n",
              "2  23 Of The Funniest Tweets About Cats And Dogs ...     COMEDY   \n",
              "3  The Funniest Tweets From Parents This Week (Se...  PARENTING   \n",
              "4  Woman Who Called Cops On Black Bird-Watcher Lo...  U.S. NEWS   \n",
              "\n",
              "                                   short_description               authors  \\\n",
              "0  Health experts said it is too early to predict...  Carla K. Johnson, AP   \n",
              "1  He was subdued by passengers and crew when he ...        Mary Papenfuss   \n",
              "2  \"Until you have a dog you don't understand wha...         Elyse Wanshel   \n",
              "3  \"Accidentally put grown-up toothpaste on my to...      Caroline Bologna   \n",
              "4  Amy Cooper accused investment firm Franklin Te...        Nina Golgowski   \n",
              "\n",
              "         date  \n",
              "0  2022-09-23  \n",
              "1  2022-09-23  \n",
              "2  2022-09-23  \n",
              "3  2022-09-23  \n",
              "4  2022-09-22  "
            ],
            "text/html": [
              "\n",
              "  <div id=\"df-5feefa95-a82b-4408-8b57-16a400efd3f3\" class=\"colab-df-container\">\n",
              "    <div>\n",
              "<style scoped>\n",
              "    .dataframe tbody tr th:only-of-type {\n",
              "        vertical-align: middle;\n",
              "    }\n",
              "\n",
              "    .dataframe tbody tr th {\n",
              "        vertical-align: top;\n",
              "    }\n",
              "\n",
              "    .dataframe thead th {\n",
              "        text-align: right;\n",
              "    }\n",
              "</style>\n",
              "<table border=\"1\" class=\"dataframe\">\n",
              "  <thead>\n",
              "    <tr style=\"text-align: right;\">\n",
              "      <th></th>\n",
              "      <th>link</th>\n",
              "      <th>headline</th>\n",
              "      <th>category</th>\n",
              "      <th>short_description</th>\n",
              "      <th>authors</th>\n",
              "      <th>date</th>\n",
              "    </tr>\n",
              "  </thead>\n",
              "  <tbody>\n",
              "    <tr>\n",
              "      <th>0</th>\n",
              "      <td>https://www.huffpost.com/entry/covid-boosters-...</td>\n",
              "      <td>Over 4 Million Americans Roll Up Sleeves For O...</td>\n",
              "      <td>U.S. NEWS</td>\n",
              "      <td>Health experts said it is too early to predict...</td>\n",
              "      <td>Carla K. Johnson, AP</td>\n",
              "      <td>2022-09-23</td>\n",
              "    </tr>\n",
              "    <tr>\n",
              "      <th>1</th>\n",
              "      <td>https://www.huffpost.com/entry/american-airlin...</td>\n",
              "      <td>American Airlines Flyer Charged, Banned For Li...</td>\n",
              "      <td>U.S. NEWS</td>\n",
              "      <td>He was subdued by passengers and crew when he ...</td>\n",
              "      <td>Mary Papenfuss</td>\n",
              "      <td>2022-09-23</td>\n",
              "    </tr>\n",
              "    <tr>\n",
              "      <th>2</th>\n",
              "      <td>https://www.huffpost.com/entry/funniest-tweets...</td>\n",
              "      <td>23 Of The Funniest Tweets About Cats And Dogs ...</td>\n",
              "      <td>COMEDY</td>\n",
              "      <td>\"Until you have a dog you don't understand wha...</td>\n",
              "      <td>Elyse Wanshel</td>\n",
              "      <td>2022-09-23</td>\n",
              "    </tr>\n",
              "    <tr>\n",
              "      <th>3</th>\n",
              "      <td>https://www.huffpost.com/entry/funniest-parent...</td>\n",
              "      <td>The Funniest Tweets From Parents This Week (Se...</td>\n",
              "      <td>PARENTING</td>\n",
              "      <td>\"Accidentally put grown-up toothpaste on my to...</td>\n",
              "      <td>Caroline Bologna</td>\n",
              "      <td>2022-09-23</td>\n",
              "    </tr>\n",
              "    <tr>\n",
              "      <th>4</th>\n",
              "      <td>https://www.huffpost.com/entry/amy-cooper-lose...</td>\n",
              "      <td>Woman Who Called Cops On Black Bird-Watcher Lo...</td>\n",
              "      <td>U.S. NEWS</td>\n",
              "      <td>Amy Cooper accused investment firm Franklin Te...</td>\n",
              "      <td>Nina Golgowski</td>\n",
              "      <td>2022-09-22</td>\n",
              "    </tr>\n",
              "  </tbody>\n",
              "</table>\n",
              "</div>\n",
              "    <div class=\"colab-df-buttons\">\n",
              "\n",
              "  <div class=\"colab-df-container\">\n",
              "    <button class=\"colab-df-convert\" onclick=\"convertToInteractive('df-5feefa95-a82b-4408-8b57-16a400efd3f3')\"\n",
              "            title=\"Convert this dataframe to an interactive table.\"\n",
              "            style=\"display:none;\">\n",
              "\n",
              "  <svg xmlns=\"http://www.w3.org/2000/svg\" height=\"24px\" viewBox=\"0 -960 960 960\">\n",
              "    <path d=\"M120-120v-720h720v720H120Zm60-500h600v-160H180v160Zm220 220h160v-160H400v160Zm0 220h160v-160H400v160ZM180-400h160v-160H180v160Zm440 0h160v-160H620v160ZM180-180h160v-160H180v160Zm440 0h160v-160H620v160Z\"/>\n",
              "  </svg>\n",
              "    </button>\n",
              "\n",
              "  <style>\n",
              "    .colab-df-container {\n",
              "      display:flex;\n",
              "      gap: 12px;\n",
              "    }\n",
              "\n",
              "    .colab-df-convert {\n",
              "      background-color: #E8F0FE;\n",
              "      border: none;\n",
              "      border-radius: 50%;\n",
              "      cursor: pointer;\n",
              "      display: none;\n",
              "      fill: #1967D2;\n",
              "      height: 32px;\n",
              "      padding: 0 0 0 0;\n",
              "      width: 32px;\n",
              "    }\n",
              "\n",
              "    .colab-df-convert:hover {\n",
              "      background-color: #E2EBFA;\n",
              "      box-shadow: 0px 1px 2px rgba(60, 64, 67, 0.3), 0px 1px 3px 1px rgba(60, 64, 67, 0.15);\n",
              "      fill: #174EA6;\n",
              "    }\n",
              "\n",
              "    .colab-df-buttons div {\n",
              "      margin-bottom: 4px;\n",
              "    }\n",
              "\n",
              "    [theme=dark] .colab-df-convert {\n",
              "      background-color: #3B4455;\n",
              "      fill: #D2E3FC;\n",
              "    }\n",
              "\n",
              "    [theme=dark] .colab-df-convert:hover {\n",
              "      background-color: #434B5C;\n",
              "      box-shadow: 0px 1px 3px 1px rgba(0, 0, 0, 0.15);\n",
              "      filter: drop-shadow(0px 1px 2px rgba(0, 0, 0, 0.3));\n",
              "      fill: #FFFFFF;\n",
              "    }\n",
              "  </style>\n",
              "\n",
              "    <script>\n",
              "      const buttonEl =\n",
              "        document.querySelector('#df-5feefa95-a82b-4408-8b57-16a400efd3f3 button.colab-df-convert');\n",
              "      buttonEl.style.display =\n",
              "        google.colab.kernel.accessAllowed ? 'block' : 'none';\n",
              "\n",
              "      async function convertToInteractive(key) {\n",
              "        const element = document.querySelector('#df-5feefa95-a82b-4408-8b57-16a400efd3f3');\n",
              "        const dataTable =\n",
              "          await google.colab.kernel.invokeFunction('convertToInteractive',\n",
              "                                                    [key], {});\n",
              "        if (!dataTable) return;\n",
              "\n",
              "        const docLinkHtml = 'Like what you see? Visit the ' +\n",
              "          '<a target=\"_blank\" href=https://colab.research.google.com/notebooks/data_table.ipynb>data table notebook</a>'\n",
              "          + ' to learn more about interactive tables.';\n",
              "        element.innerHTML = '';\n",
              "        dataTable['output_type'] = 'display_data';\n",
              "        await google.colab.output.renderOutput(dataTable, element);\n",
              "        const docLink = document.createElement('div');\n",
              "        docLink.innerHTML = docLinkHtml;\n",
              "        element.appendChild(docLink);\n",
              "      }\n",
              "    </script>\n",
              "  </div>\n",
              "\n",
              "\n",
              "<div id=\"df-9b16159e-e725-45f2-a903-29748e21ec76\">\n",
              "  <button class=\"colab-df-quickchart\" onclick=\"quickchart('df-9b16159e-e725-45f2-a903-29748e21ec76')\"\n",
              "            title=\"Suggest charts\"\n",
              "            style=\"display:none;\">\n",
              "\n",
              "<svg xmlns=\"http://www.w3.org/2000/svg\" height=\"24px\"viewBox=\"0 0 24 24\"\n",
              "     width=\"24px\">\n",
              "    <g>\n",
              "        <path d=\"M19 3H5c-1.1 0-2 .9-2 2v14c0 1.1.9 2 2 2h14c1.1 0 2-.9 2-2V5c0-1.1-.9-2-2-2zM9 17H7v-7h2v7zm4 0h-2V7h2v10zm4 0h-2v-4h2v4z\"/>\n",
              "    </g>\n",
              "</svg>\n",
              "  </button>\n",
              "\n",
              "<style>\n",
              "  .colab-df-quickchart {\n",
              "      --bg-color: #E8F0FE;\n",
              "      --fill-color: #1967D2;\n",
              "      --hover-bg-color: #E2EBFA;\n",
              "      --hover-fill-color: #174EA6;\n",
              "      --disabled-fill-color: #AAA;\n",
              "      --disabled-bg-color: #DDD;\n",
              "  }\n",
              "\n",
              "  [theme=dark] .colab-df-quickchart {\n",
              "      --bg-color: #3B4455;\n",
              "      --fill-color: #D2E3FC;\n",
              "      --hover-bg-color: #434B5C;\n",
              "      --hover-fill-color: #FFFFFF;\n",
              "      --disabled-bg-color: #3B4455;\n",
              "      --disabled-fill-color: #666;\n",
              "  }\n",
              "\n",
              "  .colab-df-quickchart {\n",
              "    background-color: var(--bg-color);\n",
              "    border: none;\n",
              "    border-radius: 50%;\n",
              "    cursor: pointer;\n",
              "    display: none;\n",
              "    fill: var(--fill-color);\n",
              "    height: 32px;\n",
              "    padding: 0;\n",
              "    width: 32px;\n",
              "  }\n",
              "\n",
              "  .colab-df-quickchart:hover {\n",
              "    background-color: var(--hover-bg-color);\n",
              "    box-shadow: 0 1px 2px rgba(60, 64, 67, 0.3), 0 1px 3px 1px rgba(60, 64, 67, 0.15);\n",
              "    fill: var(--button-hover-fill-color);\n",
              "  }\n",
              "\n",
              "  .colab-df-quickchart-complete:disabled,\n",
              "  .colab-df-quickchart-complete:disabled:hover {\n",
              "    background-color: var(--disabled-bg-color);\n",
              "    fill: var(--disabled-fill-color);\n",
              "    box-shadow: none;\n",
              "  }\n",
              "\n",
              "  .colab-df-spinner {\n",
              "    border: 2px solid var(--fill-color);\n",
              "    border-color: transparent;\n",
              "    border-bottom-color: var(--fill-color);\n",
              "    animation:\n",
              "      spin 1s steps(1) infinite;\n",
              "  }\n",
              "\n",
              "  @keyframes spin {\n",
              "    0% {\n",
              "      border-color: transparent;\n",
              "      border-bottom-color: var(--fill-color);\n",
              "      border-left-color: var(--fill-color);\n",
              "    }\n",
              "    20% {\n",
              "      border-color: transparent;\n",
              "      border-left-color: var(--fill-color);\n",
              "      border-top-color: var(--fill-color);\n",
              "    }\n",
              "    30% {\n",
              "      border-color: transparent;\n",
              "      border-left-color: var(--fill-color);\n",
              "      border-top-color: var(--fill-color);\n",
              "      border-right-color: var(--fill-color);\n",
              "    }\n",
              "    40% {\n",
              "      border-color: transparent;\n",
              "      border-right-color: var(--fill-color);\n",
              "      border-top-color: var(--fill-color);\n",
              "    }\n",
              "    60% {\n",
              "      border-color: transparent;\n",
              "      border-right-color: var(--fill-color);\n",
              "    }\n",
              "    80% {\n",
              "      border-color: transparent;\n",
              "      border-right-color: var(--fill-color);\n",
              "      border-bottom-color: var(--fill-color);\n",
              "    }\n",
              "    90% {\n",
              "      border-color: transparent;\n",
              "      border-bottom-color: var(--fill-color);\n",
              "    }\n",
              "  }\n",
              "</style>\n",
              "\n",
              "  <script>\n",
              "    async function quickchart(key) {\n",
              "      const quickchartButtonEl =\n",
              "        document.querySelector('#' + key + ' button');\n",
              "      quickchartButtonEl.disabled = true;  // To prevent multiple clicks.\n",
              "      quickchartButtonEl.classList.add('colab-df-spinner');\n",
              "      try {\n",
              "        const charts = await google.colab.kernel.invokeFunction(\n",
              "            'suggestCharts', [key], {});\n",
              "      } catch (error) {\n",
              "        console.error('Error during call to suggestCharts:', error);\n",
              "      }\n",
              "      quickchartButtonEl.classList.remove('colab-df-spinner');\n",
              "      quickchartButtonEl.classList.add('colab-df-quickchart-complete');\n",
              "    }\n",
              "    (() => {\n",
              "      let quickchartButtonEl =\n",
              "        document.querySelector('#df-9b16159e-e725-45f2-a903-29748e21ec76 button');\n",
              "      quickchartButtonEl.style.display =\n",
              "        google.colab.kernel.accessAllowed ? 'block' : 'none';\n",
              "    })();\n",
              "  </script>\n",
              "</div>\n",
              "\n",
              "    </div>\n",
              "  </div>\n"
            ],
            "application/vnd.google.colaboratory.intrinsic+json": {
              "type": "dataframe",
              "variable_name": "df"
            }
          },
          "metadata": {},
          "execution_count": 48
        }
      ]
    },
    {
      "cell_type": "code",
      "source": [
        "# shape of the dataset\n",
        "print(df.shape)\n",
        "# total number of unique categories\n",
        "print(\"Unique categories:\",df['category'].nunique())\n",
        "print(\"-------------------------------------------------\")\n",
        "# information about metadata\n",
        "df.info()"
      ],
      "metadata": {
        "id": "2HsoWI0nLL0M",
        "outputId": "f3027bdf-bc2a-4e8b-a0ed-5e7d530be4d4",
        "colab": {
          "base_uri": "https://localhost:8080/"
        }
      },
      "execution_count": 49,
      "outputs": [
        {
          "output_type": "stream",
          "name": "stdout",
          "text": [
            "(209527, 6)\n",
            "Unique categories: 42\n",
            "-------------------------------------------------\n",
            "<class 'pandas.core.frame.DataFrame'>\n",
            "RangeIndex: 209527 entries, 0 to 209526\n",
            "Data columns (total 6 columns):\n",
            " #   Column             Non-Null Count   Dtype \n",
            "---  ------             --------------   ----- \n",
            " 0   link               209527 non-null  object\n",
            " 1   headline           209527 non-null  object\n",
            " 2   category           209527 non-null  object\n",
            " 3   short_description  209527 non-null  object\n",
            " 4   authors            209527 non-null  object\n",
            " 5   date               209527 non-null  object\n",
            "dtypes: object(6)\n",
            "memory usage: 9.6+ MB\n"
          ]
        }
      ]
    },
    {
      "cell_type": "code",
      "source": [
        "# general descrption of dataset\n",
        "df.describe().style.set_properties(**{'background-color': '#F0F0F0',\n",
        "                                    'color': '#222222',\n",
        "                                    'border': '1.5px  solid black'})"
      ],
      "metadata": {
        "id": "z1SpbepKl081",
        "outputId": "2d418934-a038-4ad1-b4b1-c5e712c5b8ec",
        "colab": {
          "base_uri": "https://localhost:8080/",
          "height": 195
        }
      },
      "execution_count": 50,
      "outputs": [
        {
          "output_type": "execute_result",
          "data": {
            "text/plain": [
              "<pandas.io.formats.style.Styler at 0x7f3aa666c6a0>"
            ],
            "text/html": [
              "<style type=\"text/css\">\n",
              "#T_ff658_row0_col0, #T_ff658_row0_col1, #T_ff658_row0_col2, #T_ff658_row0_col3, #T_ff658_row0_col4, #T_ff658_row0_col5, #T_ff658_row1_col0, #T_ff658_row1_col1, #T_ff658_row1_col2, #T_ff658_row1_col3, #T_ff658_row1_col4, #T_ff658_row1_col5, #T_ff658_row2_col0, #T_ff658_row2_col1, #T_ff658_row2_col2, #T_ff658_row2_col3, #T_ff658_row2_col4, #T_ff658_row2_col5, #T_ff658_row3_col0, #T_ff658_row3_col1, #T_ff658_row3_col2, #T_ff658_row3_col3, #T_ff658_row3_col4, #T_ff658_row3_col5 {\n",
              "  background-color: #F0F0F0;\n",
              "  color: #222222;\n",
              "  border: 1.5px  solid black;\n",
              "}\n",
              "</style>\n",
              "<table id=\"T_ff658\" class=\"dataframe\">\n",
              "  <thead>\n",
              "    <tr>\n",
              "      <th class=\"blank level0\" >&nbsp;</th>\n",
              "      <th id=\"T_ff658_level0_col0\" class=\"col_heading level0 col0\" >link</th>\n",
              "      <th id=\"T_ff658_level0_col1\" class=\"col_heading level0 col1\" >headline</th>\n",
              "      <th id=\"T_ff658_level0_col2\" class=\"col_heading level0 col2\" >category</th>\n",
              "      <th id=\"T_ff658_level0_col3\" class=\"col_heading level0 col3\" >short_description</th>\n",
              "      <th id=\"T_ff658_level0_col4\" class=\"col_heading level0 col4\" >authors</th>\n",
              "      <th id=\"T_ff658_level0_col5\" class=\"col_heading level0 col5\" >date</th>\n",
              "    </tr>\n",
              "  </thead>\n",
              "  <tbody>\n",
              "    <tr>\n",
              "      <th id=\"T_ff658_level0_row0\" class=\"row_heading level0 row0\" >count</th>\n",
              "      <td id=\"T_ff658_row0_col0\" class=\"data row0 col0\" >209527</td>\n",
              "      <td id=\"T_ff658_row0_col1\" class=\"data row0 col1\" >209527</td>\n",
              "      <td id=\"T_ff658_row0_col2\" class=\"data row0 col2\" >209527</td>\n",
              "      <td id=\"T_ff658_row0_col3\" class=\"data row0 col3\" >209527</td>\n",
              "      <td id=\"T_ff658_row0_col4\" class=\"data row0 col4\" >209527</td>\n",
              "      <td id=\"T_ff658_row0_col5\" class=\"data row0 col5\" >209527</td>\n",
              "    </tr>\n",
              "    <tr>\n",
              "      <th id=\"T_ff658_level0_row1\" class=\"row_heading level0 row1\" >unique</th>\n",
              "      <td id=\"T_ff658_row1_col0\" class=\"data row1 col0\" >209486</td>\n",
              "      <td id=\"T_ff658_row1_col1\" class=\"data row1 col1\" >207996</td>\n",
              "      <td id=\"T_ff658_row1_col2\" class=\"data row1 col2\" >42</td>\n",
              "      <td id=\"T_ff658_row1_col3\" class=\"data row1 col3\" >187022</td>\n",
              "      <td id=\"T_ff658_row1_col4\" class=\"data row1 col4\" >29169</td>\n",
              "      <td id=\"T_ff658_row1_col5\" class=\"data row1 col5\" >3890</td>\n",
              "    </tr>\n",
              "    <tr>\n",
              "      <th id=\"T_ff658_level0_row2\" class=\"row_heading level0 row2\" >top</th>\n",
              "      <td id=\"T_ff658_row2_col0\" class=\"data row2 col0\" >https://www.huffingtonpost.comhttps://www.washingtonpost.com/politics/divisions-within-gop-over-trumps-candidacy-are-growing/2016/02/28/97b16010-de3a-11e5-8d98-4b3d9215ade1_story.html</td>\n",
              "      <td id=\"T_ff658_row2_col1\" class=\"data row2 col1\" >Sunday Roundup</td>\n",
              "      <td id=\"T_ff658_row2_col2\" class=\"data row2 col2\" >POLITICS</td>\n",
              "      <td id=\"T_ff658_row2_col3\" class=\"data row2 col3\" ></td>\n",
              "      <td id=\"T_ff658_row2_col4\" class=\"data row2 col4\" ></td>\n",
              "      <td id=\"T_ff658_row2_col5\" class=\"data row2 col5\" >2014-03-25</td>\n",
              "    </tr>\n",
              "    <tr>\n",
              "      <th id=\"T_ff658_level0_row3\" class=\"row_heading level0 row3\" >freq</th>\n",
              "      <td id=\"T_ff658_row3_col0\" class=\"data row3 col0\" >2</td>\n",
              "      <td id=\"T_ff658_row3_col1\" class=\"data row3 col1\" >90</td>\n",
              "      <td id=\"T_ff658_row3_col2\" class=\"data row3 col2\" >35602</td>\n",
              "      <td id=\"T_ff658_row3_col3\" class=\"data row3 col3\" >19712</td>\n",
              "      <td id=\"T_ff658_row3_col4\" class=\"data row3 col4\" >37418</td>\n",
              "      <td id=\"T_ff658_row3_col5\" class=\"data row3 col5\" >100</td>\n",
              "    </tr>\n",
              "  </tbody>\n",
              "</table>\n"
            ]
          },
          "metadata": {},
          "execution_count": 50
        }
      ]
    },
    {
      "cell_type": "code",
      "source": [
        "# drop columns like authors, links and date as they are irrelevent to our problem.\n",
        "new_df = df.drop(columns=['authors','link','date'])\n",
        "new_df.columns"
      ],
      "metadata": {
        "id": "Y4i2ud0ZmQFk",
        "outputId": "335d6d3f-8a8d-473e-e942-ddcfff6b5e6e",
        "colab": {
          "base_uri": "https://localhost:8080/"
        }
      },
      "execution_count": 53,
      "outputs": [
        {
          "output_type": "execute_result",
          "data": {
            "text/plain": [
              "Index(['headline', 'category', 'short_description'], dtype='object')"
            ]
          },
          "metadata": {},
          "execution_count": 53
        }
      ]
    },
    {
      "cell_type": "code",
      "source": [
        "# Top categories by and number of articles per categories\n",
        "cat_df = pd.DataFrame(new_df['category'].value_counts()).reset_index()\n",
        "cat_df.rename(columns={'count':'news_classes','category':'numcat'}, inplace=True)\n",
        "cat_df.columns"
      ],
      "metadata": {
        "id": "74GtLYfJnrD3",
        "outputId": "08af19a3-94c9-4af5-a780-7084cffa36d7",
        "colab": {
          "base_uri": "https://localhost:8080/"
        }
      },
      "execution_count": 54,
      "outputs": [
        {
          "output_type": "execute_result",
          "data": {
            "text/plain": [
              "Index(['numcat', 'news_classes'], dtype='object')"
            ]
          },
          "metadata": {},
          "execution_count": 54
        }
      ]
    },
    {
      "cell_type": "code",
      "source": [
        "\n",
        "# Visualize top 10 categories and proportion of each categories in dataset\n",
        "plt.figure(figsize=(10,6))\n",
        "ax = sns.barplot(x=np.array(cat_df.news_classes)[:10], y=np.array(cat_df.numcat)[:10])\n",
        "for p in ax.patches:\n",
        "    ax.annotate(p.get_height(), (p.get_x() + p.get_width() / 2., p.get_height()), ha='center', va='center', xytext=(0, 9), textcoords='offset points')\n",
        "plt.title(\"TOP 10 Categories of News articles\", size=15)\n",
        "plt.xlabel(\"Categories of articles\", size=14)\n",
        "plt.xticks(rotation=45)\n",
        "plt.ylabel(\"Number of articles\", size=14)\n",
        "plt.show()"
      ],
      "metadata": {
        "id": "nI-NARPCnfdw",
        "outputId": "0062550a-5a4d-4394-f155-badb3251bf30",
        "colab": {
          "base_uri": "https://localhost:8080/",
          "height": 598
        }
      },
      "execution_count": 57,
      "outputs": [
        {
          "output_type": "display_data",
          "data": {
            "text/plain": [
              "<Figure size 1000x600 with 1 Axes>"
            ],
            "image/png": "[encoded data removed]"
          },
          "metadata": {}
        }
      ]
    },
    {
      "cell_type": "code",
      "source": [],
      "metadata": {
        "id": "73PB3zIUqdvc"
      },
      "execution_count": 56,
      "outputs": []
    }
  ]
}